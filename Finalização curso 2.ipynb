{
 "cells": [
  {
   "cell_type": "markdown",
   "id": "53d048c8",
   "metadata": {},
   "source": [
    "# Notebook title"
   ]
  },
  {
   "cell_type": "markdown",
   "id": "f675b54a",
   "metadata": {},
   "source": [
    "## This notebook is an activity to practice using the Markdown markup language."
   ]
  },
  {
   "cell_type": "markdown",
   "id": "30e7bac3",
   "metadata": {},
   "source": [
    "### Data Science Languages:\n",
    "\n",
    "- Python\n",
    "- R\n",
    "- SQL\n",
    "- Julia\n",
    "- Scala"
   ]
  },
  {
   "cell_type": "markdown",
   "id": "f0b08cb2",
   "metadata": {},
   "source": [
    "### Data Science Liberies:\n",
    "\n",
    "- Pandas\n",
    "- NumPy\n",
    "- ggplot2\n",
    "- TensorFlow"
   ]
  },
  {
   "cell_type": "markdown",
   "id": "cac7e0d2",
   "metadata": {},
   "source": [
    "### Data Science Tools\n",
    "\n",
    "| Tool            | Description                                                         |\n",
    "|-----------------|---------------------------------------------------------------------|\n",
    "| Python          | General-purpose programming language with extensive data libraries   |\n",
    "| R               | Statistical computing and graphics                                    |\n",
    "| SQL             | Database querying language                                           |\n",
    "| Jupyter Notebook| Interactive coding and documentation environment                     |\n",
    "| TensorFlow      | Machine learning library for building and training models            |\n",
    "| scikit-learn    | Machine learning library for data analysis and modeling              |"
   ]
  },
  {
   "cell_type": "markdown",
   "id": "515db27b",
   "metadata": {},
   "source": [
    "### Arithmetic Expressions\n",
    "\n",
    "Examples of arithmetic expressions:\n",
    "\n",
    "1. Addition:\n",
    "   - `5 + 5 = 10`\n",
    "\n",
    "2. Subtraction:\n",
    "   - `10 - 9 = 1`\n",
    "\n",
    "3. Multiplication:\n",
    "   - `2 * 54 = 108`\n",
    "\n",
    "4. Division:\n",
    "   - `9 / 3 = 3 `\n",
    "   - `1 / 2 = 0.5`\n"
   ]
  },
  {
   "cell_type": "code",
   "execution_count": 5,
   "id": "e7d72b68",
   "metadata": {},
   "outputs": [
    {
     "name": "stdout",
     "output_type": "stream",
     "text": [
      "Product: 102\n",
      "Sum: 10\n"
     ]
    }
   ],
   "source": [
    "# Multiply and add numbers\n",
    "number1 = 6\n",
    "number2 = 17\n",
    "number3 = 4\n",
    "\n",
    "# Multiply\n",
    "product = number1 * number2\n",
    "print(\"Product:\", product)\n",
    "\n",
    "# Add\n",
    "sum = number1 + number3\n",
    "print(\"Sum:\", sum)"
   ]
  },
  {
   "cell_type": "code",
   "execution_count": 6,
   "id": "e68a8373",
   "metadata": {},
   "outputs": [
    {
     "name": "stdout",
     "output_type": "stream",
     "text": [
      "Minutes: 120\n",
      "Hours: 2.0\n"
     ]
    }
   ],
   "source": [
    "# Convert minutes to hours\n",
    "minutes = 120\n",
    "\n",
    "# Convert minutes to hours\n",
    "hours = minutes / 60\n",
    "\n",
    "# Print the result\n",
    "print(\"Minutes:\", minutes)\n",
    "print(\"Hours:\", hours)"
   ]
  },
  {
   "cell_type": "markdown",
   "id": "7efbafc8",
   "metadata": {},
   "source": [
    "### Objectives\n",
    "\n",
    "- Gain a solid understanding of data science principles and touls\n",
    "- Develop proficiency in programming languages commonly used in data science, such as Python and R.\n",
    "- Learn various data manipulation and analysis techniques, including data cleaning, exploration, and visualization.\n",
    "- Gain hands-on experience with popular data science tools and libraries, such as Pandas, NumPy, and scikit-learn.\n",
    "- Understand machine learning algorithms and their applications in solving real-world problems."
   ]
  },
  {
   "cell_type": "markdown",
   "id": "ca0cfe4e",
   "metadata": {},
   "source": [
    "**Author: Pedro Luiz Forlan**"
   ]
  },
  {
   "cell_type": "code",
   "execution_count": null,
   "id": "11bfa9a2",
   "metadata": {},
   "outputs": [],
   "source": []
  }
 ],
 "metadata": {
  "kernelspec": {
   "display_name": "Python 3 (ipykernel)",
   "language": "python",
   "name": "python3"
  },
  "language_info": {
   "codemirror_mode": {
    "name": "ipython",
    "version": 3
   },
   "file_extension": ".py",
   "mimetype": "text/x-python",
   "name": "python",
   "nbconvert_exporter": "python",
   "pygments_lexer": "ipython3",
   "version": "3.9.12"
  }
 },
 "nbformat": 4,
 "nbformat_minor": 5
}
